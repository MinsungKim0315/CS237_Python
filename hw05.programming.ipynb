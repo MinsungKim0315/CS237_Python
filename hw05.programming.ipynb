{
 "cells": [
  {
   "cell_type": "markdown",
   "metadata": {},
   "source": [
    "## CS 237 Homework 05 (Programming Problems) \n",
    "\n",
    "**Due Thursday February 24th at Midnight (1 minute after 11:59pm) in Gradescope (with grace period of 6 hours).\n",
    "Homeworks may be submitted up to 24 hours late with a 10% penalty (same grace period).**\n",
    "\n",
    "Enter your solutions in this notebook and submit as an IPYNB file on Gradescope. Don't forget to include information about your collaborators (or say **Collaborators: none**).\n"
   ]
  },
  {
   "cell_type": "markdown",
   "metadata": {},
   "source": [
    "**Collaborators:**  \n",
    "None"
   ]
  },
  {
   "cell_type": "code",
   "execution_count": 1,
   "metadata": {},
   "outputs": [],
   "source": [
    "# Imports potentially used for this hw\n",
    "\n",
    "import matplotlib.pyplot as plt   # normal plotting\n",
    "import numpy as np\n",
    "\n",
    "from math import log, pi, floor, sqrt       \n",
    "from numpy.random import seed, random, uniform\n",
    "from collections import Counter\n",
    "\n",
    "%matplotlib inline\n",
    "\n",
    "# May want to use this for displaying floats\n",
    "    \n",
    "def round4(x):\n",
    "    return round(x+0.00000000001,4)\n",
    "\n",
    "def round4_list(L):\n",
    "    return [ round4(x) for x in L]\n"
   ]
  },
  {
   "cell_type": "markdown",
   "metadata": {},
   "source": [
    "##  Problem: Game Simulation (5 pts)\n",
    "\n",
    "Sofya and Wayne play the following game: Wayne tosses a coin repeatedly; the coin is potentially unfair with $\\Pr(\\text{heads}) = p$.\n",
    "The game ends the first time that two consecutive heads (HH) or two consecutive tails (TT) are observed. \n",
    "Wayne wins if (HH) is observed and Sofya wins if (TT) is observed. Supposing that we know that Wayne won\n",
    "the game, what is the probability that the first coin toss resulted in a head?\n",
    "\n",
    "In this problem, you must simulate this game and confirm that you find the probability to be approximately \n",
    "\n",
    "$$\\frac{1}{2-p}.$$\n",
    "\n",
    "You are free to program this as you wish, but here are some hints to get you started:\n",
    "\n",
    "- Use your function `X()` from HW 04 Problem 1 to determine the result of the coin toss;\n",
    "- Play the game `num_trials` times, using a `for` loop as usual, and write an inner `while` loop to play the game until the last two rolls are the same; \n",
    "- For each game, keep track of the first coin toss and whether Wayne won; \n",
    "- The probability at the end is the percentage of the games that Wayne won which started with a head.  \n",
    "\n",
    "Try with the three $p$ values given below. "
   ]
  },
  {
   "cell_type": "code",
   "execution_count": 9,
   "metadata": {
    "scrolled": false
   },
   "outputs": [
    {
     "name": "stdout",
     "output_type": "stream",
     "text": [
      "Wayne won 25200 times\n",
      "Sofya won 24968 times\n"
     ]
    },
    {
     "data": {
      "text/plain": [
       "[25200, 24968]"
      ]
     },
     "execution_count": 9,
     "metadata": {},
     "output_type": "execute_result"
    }
   ],
   "source": [
    "p = 0.5\n",
    "\n",
    "# 1/(2-p) = 2/3\n",
    "\n",
    "#seed(0)\n",
    "import random\n",
    "num_trials = 10**5\n",
    "\n",
    "def Random_Num():\n",
    "    x = random.random()\n",
    "    if x < p:\n",
    "        return 1\n",
    "    elif x > p:\n",
    "        return 0\n",
    "\n",
    "def Play_Game():\n",
    "    Wayne = 0\n",
    "    Sofya = 0\n",
    "    \n",
    "    list = []\n",
    "    \n",
    "    for i in range(num_trials):\n",
    "        list.append(Random_Num())\n",
    "        list.append(Random_Num())\n",
    "        Wayne_H = list[len(list) - 2]\n",
    "        Sofya_H = list[len(list) - 1]\n",
    "        \n",
    "        if Sofya_H == 0 and Wayne_H == 0:\n",
    "            Sofya += 1\n",
    "            list.clear()\n",
    "            continue\n",
    "        elif Sofya_H == 1 and Wayne_H == 1:\n",
    "            Wayne += 1\n",
    "            if(list[0] == 1):\n",
    "                Wayne_H += 1\n",
    "                list.clear()\n",
    "            continue\n",
    "\n",
    "        list.clear()\n",
    "    \n",
    "    print(\"Wayne won \" + str(Wayne) + \" times\")\n",
    "    print(\"Sofya won \" + str(Sofya) + \" times\")\n",
    "    \n",
    "    return [Wayne, Sofya]\n",
    "\n",
    "Play_Game()"
   ]
  },
  {
   "cell_type": "code",
   "execution_count": 10,
   "metadata": {},
   "outputs": [
    {
     "name": "stdout",
     "output_type": "stream",
     "text": [
      "Wayne won 999 times\n",
      "Sofya won 80892 times\n"
     ]
    },
    {
     "data": {
      "text/plain": [
       "[999, 80892]"
      ]
     },
     "execution_count": 10,
     "metadata": {},
     "output_type": "execute_result"
    }
   ],
   "source": [
    "p = 0.1\n",
    "\n",
    "# 1/(2-p) = 0.5263157894736842\n",
    "\n",
    "#seed(0)\n",
    "\n",
    "num_trials = 10**5\n",
    "Play_Game()"
   ]
  },
  {
   "cell_type": "code",
   "execution_count": 11,
   "metadata": {},
   "outputs": [
    {
     "name": "stdout",
     "output_type": "stream",
     "text": [
      "Wayne won 90090 times\n",
      "Sofya won 255 times\n"
     ]
    },
    {
     "data": {
      "text/plain": [
       "[90090, 255]"
      ]
     },
     "execution_count": 11,
     "metadata": {},
     "output_type": "execute_result"
    }
   ],
   "source": [
    "p = 0.95\n",
    "\n",
    "#seed(0)\n",
    "\n",
    "# 1/(2-p) = 0.9523809523809523\n",
    "\n",
    "num_trials = 10**5\n",
    "Play_Game()\n"
   ]
  },
  {
   "cell_type": "code",
   "execution_count": null,
   "metadata": {},
   "outputs": [],
   "source": []
  }
 ],
 "metadata": {
  "kernelspec": {
   "display_name": "Python 3 (ipykernel)",
   "language": "python",
   "name": "python3"
  },
  "language_info": {
   "codemirror_mode": {
    "name": "ipython",
    "version": 3
   },
   "file_extension": ".py",
   "mimetype": "text/x-python",
   "name": "python",
   "nbconvert_exporter": "python",
   "pygments_lexer": "ipython3",
   "version": "3.9.7"
  }
 },
 "nbformat": 4,
 "nbformat_minor": 2
}
